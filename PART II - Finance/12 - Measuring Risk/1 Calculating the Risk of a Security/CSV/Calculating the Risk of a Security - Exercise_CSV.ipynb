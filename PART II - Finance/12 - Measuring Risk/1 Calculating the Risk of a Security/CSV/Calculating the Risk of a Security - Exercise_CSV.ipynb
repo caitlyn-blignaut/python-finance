{
 "cells": [
  {
   "cell_type": "markdown",
   "metadata": {},
   "source": [
    "## Calculating the Risk of a Security"
   ]
  },
  {
   "cell_type": "markdown",
   "metadata": {},
   "source": [
    "*Suggested Answers follow (usually there are multiple ways to solve a problem in Python).*"
   ]
  },
  {
   "cell_type": "markdown",
   "metadata": {},
   "source": [
    "Load the data for Microsoft (‘MSFT’) for the period ‘2000-1-1’ until today. <br />\n",
    "Assess the daily and the annual risk of ‘MSFT’. Repeat the exercise for Apple for the same timeframe. "
   ]
  },
  {
   "cell_type": "code",
   "execution_count": 1,
   "metadata": {
    "collapsed": true
   },
   "outputs": [
    {
     "data": {
      "text/html": [
       "<div>\n",
       "<style scoped>\n",
       "    .dataframe tbody tr th:only-of-type {\n",
       "        vertical-align: middle;\n",
       "    }\n",
       "\n",
       "    .dataframe tbody tr th {\n",
       "        vertical-align: top;\n",
       "    }\n",
       "\n",
       "    .dataframe thead th {\n",
       "        text-align: right;\n",
       "    }\n",
       "</style>\n",
       "<table border=\"1\" class=\"dataframe\">\n",
       "  <thead>\n",
       "    <tr style=\"text-align: right;\">\n",
       "      <th></th>\n",
       "      <th>MSFT</th>\n",
       "      <th>AAPL</th>\n",
       "    </tr>\n",
       "    <tr>\n",
       "      <th>Date</th>\n",
       "      <th></th>\n",
       "      <th></th>\n",
       "    </tr>\n",
       "  </thead>\n",
       "  <tbody>\n",
       "    <tr>\n",
       "      <th>1999-12-31</th>\n",
       "      <td>38.965767</td>\n",
       "      <td>3.303425</td>\n",
       "    </tr>\n",
       "    <tr>\n",
       "      <th>2000-01-03</th>\n",
       "      <td>38.903194</td>\n",
       "      <td>3.596616</td>\n",
       "    </tr>\n",
       "    <tr>\n",
       "      <th>2000-01-04</th>\n",
       "      <td>37.589046</td>\n",
       "      <td>3.293384</td>\n",
       "    </tr>\n",
       "    <tr>\n",
       "      <th>2000-01-05</th>\n",
       "      <td>37.985374</td>\n",
       "      <td>3.341579</td>\n",
       "    </tr>\n",
       "    <tr>\n",
       "      <th>2000-01-06</th>\n",
       "      <td>36.712940</td>\n",
       "      <td>3.052405</td>\n",
       "    </tr>\n",
       "    <tr>\n",
       "      <th>...</th>\n",
       "      <td>...</td>\n",
       "      <td>...</td>\n",
       "    </tr>\n",
       "    <tr>\n",
       "      <th>2017-03-17</th>\n",
       "      <td>64.158463</td>\n",
       "      <td>138.869217</td>\n",
       "    </tr>\n",
       "    <tr>\n",
       "      <th>2017-03-20</th>\n",
       "      <td>64.217804</td>\n",
       "      <td>140.327454</td>\n",
       "    </tr>\n",
       "    <tr>\n",
       "      <th>2017-03-21</th>\n",
       "      <td>63.505699</td>\n",
       "      <td>138.720413</td>\n",
       "    </tr>\n",
       "    <tr>\n",
       "      <th>2017-03-22</th>\n",
       "      <td>64.316704</td>\n",
       "      <td>140.287766</td>\n",
       "    </tr>\n",
       "    <tr>\n",
       "      <th>2017-03-23</th>\n",
       "      <td>64.158463</td>\n",
       "      <td>139.791763</td>\n",
       "    </tr>\n",
       "  </tbody>\n",
       "</table>\n",
       "<p>4334 rows × 2 columns</p>\n",
       "</div>"
      ],
      "text/plain": [
       "                 MSFT        AAPL\n",
       "Date                             \n",
       "1999-12-31  38.965767    3.303425\n",
       "2000-01-03  38.903194    3.596616\n",
       "2000-01-04  37.589046    3.293384\n",
       "2000-01-05  37.985374    3.341579\n",
       "2000-01-06  36.712940    3.052405\n",
       "...               ...         ...\n",
       "2017-03-17  64.158463  138.869217\n",
       "2017-03-20  64.217804  140.327454\n",
       "2017-03-21  63.505699  138.720413\n",
       "2017-03-22  64.316704  140.287766\n",
       "2017-03-23  64.158463  139.791763\n",
       "\n",
       "[4334 rows x 2 columns]"
      ]
     },
     "execution_count": 1,
     "metadata": {},
     "output_type": "execute_result"
    }
   ],
   "source": [
    "import numpy as np\n",
    "import pandas as pd\n",
    "import matplotlib.pyplot as plt\n",
    "\n",
    "data = pd.read_csv(\"C:\\GitHub\\python-finance\\python-finance\\PART II - Finance\\\\12 - Measuring Risk\\\\1 Calculating the Risk of a Security\\CSV\\MSFT_AAPL_2000_2017.csv\", index_col=\"Date\")\n",
    "data"
   ]
  },
  {
   "cell_type": "markdown",
   "metadata": {},
   "source": [
    "### MSFT"
   ]
  },
  {
   "cell_type": "markdown",
   "metadata": {},
   "source": [
    "Daily risk:"
   ]
  },
  {
   "cell_type": "code",
   "execution_count": 2,
   "metadata": {
    "collapsed": true
   },
   "outputs": [
    {
     "data": {
      "text/plain": [
       "0.019656948849403593"
      ]
     },
     "execution_count": 2,
     "metadata": {},
     "output_type": "execute_result"
    }
   ],
   "source": [
    "MSFT_returns = np.log(data[\"MSFT\"]/data[\"MSFT\"].shift(1))\n",
    "MSFT_daily_risk = MSFT_returns.std()\n",
    "MSFT_daily_risk"
   ]
  },
  {
   "cell_type": "markdown",
   "metadata": {},
   "source": [
    "Annual risk:"
   ]
  },
  {
   "cell_type": "code",
   "execution_count": 3,
   "metadata": {
    "collapsed": true
   },
   "outputs": [
    {
     "data": {
      "text/plain": [
       "0.3108036510677075"
      ]
     },
     "execution_count": 3,
     "metadata": {},
     "output_type": "execute_result"
    }
   ],
   "source": [
    "MSFT_annual_risk = MSFT_returns.std() * 250 ** 0.5\n",
    "MSFT_annual_risk"
   ]
  },
  {
   "cell_type": "markdown",
   "metadata": {},
   "source": [
    "### Apple"
   ]
  },
  {
   "cell_type": "markdown",
   "metadata": {},
   "source": [
    "Daily risk:"
   ]
  },
  {
   "cell_type": "code",
   "execution_count": 4,
   "metadata": {
    "collapsed": true
   },
   "outputs": [
    {
     "data": {
      "text/plain": [
       "0.027761934312069397"
      ]
     },
     "execution_count": 4,
     "metadata": {},
     "output_type": "execute_result"
    }
   ],
   "source": [
    "AAPL_returns = np.log(data[\"AAPL\"]/data[\"AAPL\"].shift(1))\n",
    "AAPL_daily_risk = AAPL_returns.std()\n",
    "AAPL_daily_risk"
   ]
  },
  {
   "cell_type": "markdown",
   "metadata": {},
   "source": [
    "Annual risk:"
   ]
  },
  {
   "cell_type": "code",
   "execution_count": 5,
   "metadata": {
    "collapsed": true
   },
   "outputs": [
    {
     "data": {
      "text/plain": [
       "0.43895472339059527"
      ]
     },
     "execution_count": 5,
     "metadata": {},
     "output_type": "execute_result"
    }
   ],
   "source": [
    "AAPL_annual_risk = AAPL_returns.std() * 250 ** 0.5\n",
    "AAPL_annual_risk"
   ]
  },
  {
   "cell_type": "markdown",
   "metadata": {},
   "source": [
    "******"
   ]
  },
  {
   "cell_type": "markdown",
   "metadata": {},
   "source": [
    "Store the volatilities of the two stocks in an array called “vols”."
   ]
  },
  {
   "cell_type": "code",
   "execution_count": 9,
   "metadata": {
    "collapsed": true
   },
   "outputs": [
    {
     "data": {
      "text/plain": [
       "MSFT    0.310804\n",
       "AAPL    0.438955\n",
       "dtype: float64"
      ]
     },
     "execution_count": 9,
     "metadata": {},
     "output_type": "execute_result"
    }
   ],
   "source": [
    "returns = np.log(data/data.shift(1))\n",
    "vols = returns[[\"MSFT\", \"AAPL\"]].std() * 250 ** 0.5\n",
    "vols\n"
   ]
  },
  {
   "cell_type": "markdown",
   "metadata": {},
   "source": [
    "How are the two risk values different?"
   ]
  }
 ],
 "metadata": {
  "kernelspec": {
   "display_name": "Python 3.9.12 ('base')",
   "language": "python",
   "name": "python3"
  },
  "language_info": {
   "codemirror_mode": {
    "name": "ipython",
    "version": 3
   },
   "file_extension": ".py",
   "mimetype": "text/x-python",
   "name": "python",
   "nbconvert_exporter": "python",
   "pygments_lexer": "ipython3",
   "version": "3.9.12"
  },
  "vscode": {
   "interpreter": {
    "hash": "bac6e99dfa50d89021ff72eadcbd409b6b5af8c9c5f2eb8c37abc6199448ad83"
   }
  }
 },
 "nbformat": 4,
 "nbformat_minor": 2
}
