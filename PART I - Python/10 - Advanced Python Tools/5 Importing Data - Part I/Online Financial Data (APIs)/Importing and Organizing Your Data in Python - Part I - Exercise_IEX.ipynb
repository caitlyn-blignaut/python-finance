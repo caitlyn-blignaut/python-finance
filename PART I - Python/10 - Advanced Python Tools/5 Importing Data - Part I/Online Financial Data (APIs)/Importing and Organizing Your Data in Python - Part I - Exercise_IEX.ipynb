{
 "cells": [
  {
   "cell_type": "markdown",
   "metadata": {},
   "source": [
    "## Importing and Organizing Your Data in Python - Part I"
   ]
  },
  {
   "cell_type": "markdown",
   "metadata": {},
   "source": [
    "*Suggested Answers follow (usually there are multiple ways to solve a problem in Python).*"
   ]
  },
  {
   "cell_type": "markdown",
   "metadata": {},
   "source": [
    "a. Create a series object of 10 randomly generated integer values."
   ]
  },
  {
   "cell_type": "code",
   "execution_count": 4,
   "metadata": {
    "collapsed": true
   },
   "outputs": [],
   "source": [
    "import numpy as np\n",
    "import pandas as pd"
   ]
  },
  {
   "cell_type": "code",
   "execution_count": 19,
   "metadata": {
    "collapsed": true
   },
   "outputs": [],
   "source": [
    "s = pd.Series(np.random.randint(10, size = 10, dtype = 'int'), name=\"Column1\")"
   ]
  },
  {
   "cell_type": "code",
   "execution_count": 20,
   "metadata": {
    "collapsed": true
   },
   "outputs": [
    {
     "data": {
      "text/plain": [
       "0    0\n",
       "1    3\n",
       "2    6\n",
       "3    7\n",
       "4    8\n",
       "5    6\n",
       "6    4\n",
       "7    3\n",
       "8    6\n",
       "9    5\n",
       "Name: Column1, dtype: int32"
      ]
     },
     "execution_count": 20,
     "metadata": {},
     "output_type": "execute_result"
    }
   ],
   "source": [
    "s"
   ]
  },
  {
   "cell_type": "markdown",
   "metadata": {},
   "source": [
    "b. Extract data from IEX for Ford from the 1st of January 2015. The ticker you need is ‘F’. "
   ]
  },
  {
   "cell_type": "code",
   "execution_count": 7,
   "metadata": {
    "collapsed": true
   },
   "outputs": [],
   "source": [
    "from pandas_datareader import data as api"
   ]
  },
  {
   "cell_type": "code",
   "execution_count": 15,
   "metadata": {
    "collapsed": true
   },
   "outputs": [
    {
     "name": "stderr",
     "output_type": "stream",
     "text": [
      "c:\\Users\\CBlignaut\\Anaconda3\\lib\\site-packages\\urllib3\\connectionpool.py:1043: InsecureRequestWarning: Unverified HTTPS request is being made to host 'cloud.iexapis.com'. Adding certificate verification is strongly advised. See: https://urllib3.readthedocs.io/en/1.26.x/advanced-usage.html#ssl-warnings\n",
      "  warnings.warn(\n"
     ]
    }
   ],
   "source": [
    "import requests\n",
    "\n",
    "sesh = requests.Session()\n",
    "sesh.verify = False\n",
    "\n",
    "Ford = api.DataReader(\"F\",\"iex\",start=\"2020-1-1\",api_key=\"pk_9ee76f7e01664c58a751710e0041b3fa\", session=sesh)"
   ]
  },
  {
   "cell_type": "code",
   "execution_count": 16,
   "metadata": {
    "collapsed": true
   },
   "outputs": [
    {
     "data": {
      "text/html": [
       "<div>\n",
       "<style scoped>\n",
       "    .dataframe tbody tr th:only-of-type {\n",
       "        vertical-align: middle;\n",
       "    }\n",
       "\n",
       "    .dataframe tbody tr th {\n",
       "        vertical-align: top;\n",
       "    }\n",
       "\n",
       "    .dataframe thead th {\n",
       "        text-align: right;\n",
       "    }\n",
       "</style>\n",
       "<table border=\"1\" class=\"dataframe\">\n",
       "  <thead>\n",
       "    <tr style=\"text-align: right;\">\n",
       "      <th></th>\n",
       "      <th>open</th>\n",
       "      <th>high</th>\n",
       "      <th>low</th>\n",
       "      <th>close</th>\n",
       "      <th>volume</th>\n",
       "    </tr>\n",
       "    <tr>\n",
       "      <th>date</th>\n",
       "      <th></th>\n",
       "      <th></th>\n",
       "      <th></th>\n",
       "      <th></th>\n",
       "      <th></th>\n",
       "    </tr>\n",
       "  </thead>\n",
       "  <tbody>\n",
       "    <tr>\n",
       "      <th>2020-01-02</th>\n",
       "      <td>9.29</td>\n",
       "      <td>9.42</td>\n",
       "      <td>9.19</td>\n",
       "      <td>9.42</td>\n",
       "      <td>43432239</td>\n",
       "    </tr>\n",
       "    <tr>\n",
       "      <th>2020-01-03</th>\n",
       "      <td>9.31</td>\n",
       "      <td>9.37</td>\n",
       "      <td>9.15</td>\n",
       "      <td>9.21</td>\n",
       "      <td>45059915</td>\n",
       "    </tr>\n",
       "    <tr>\n",
       "      <th>2020-01-06</th>\n",
       "      <td>9.10</td>\n",
       "      <td>9.17</td>\n",
       "      <td>9.06</td>\n",
       "      <td>9.16</td>\n",
       "      <td>43380677</td>\n",
       "    </tr>\n",
       "    <tr>\n",
       "      <th>2020-01-07</th>\n",
       "      <td>9.20</td>\n",
       "      <td>9.25</td>\n",
       "      <td>9.12</td>\n",
       "      <td>9.25</td>\n",
       "      <td>45334552</td>\n",
       "    </tr>\n",
       "    <tr>\n",
       "      <th>2020-01-08</th>\n",
       "      <td>9.23</td>\n",
       "      <td>9.30</td>\n",
       "      <td>9.17</td>\n",
       "      <td>9.25</td>\n",
       "      <td>46003049</td>\n",
       "    </tr>\n",
       "    <tr>\n",
       "      <th>...</th>\n",
       "      <td>...</td>\n",
       "      <td>...</td>\n",
       "      <td>...</td>\n",
       "      <td>...</td>\n",
       "      <td>...</td>\n",
       "    </tr>\n",
       "    <tr>\n",
       "      <th>2022-09-23</th>\n",
       "      <td>12.33</td>\n",
       "      <td>12.44</td>\n",
       "      <td>11.95</td>\n",
       "      <td>12.31</td>\n",
       "      <td>104043687</td>\n",
       "    </tr>\n",
       "    <tr>\n",
       "      <th>2022-09-26</th>\n",
       "      <td>12.21</td>\n",
       "      <td>12.38</td>\n",
       "      <td>11.93</td>\n",
       "      <td>11.99</td>\n",
       "      <td>89300368</td>\n",
       "    </tr>\n",
       "    <tr>\n",
       "      <th>2022-09-27</th>\n",
       "      <td>12.21</td>\n",
       "      <td>12.22</td>\n",
       "      <td>11.66</td>\n",
       "      <td>11.91</td>\n",
       "      <td>87044435</td>\n",
       "    </tr>\n",
       "    <tr>\n",
       "      <th>2022-09-28</th>\n",
       "      <td>11.91</td>\n",
       "      <td>12.24</td>\n",
       "      <td>11.76</td>\n",
       "      <td>12.18</td>\n",
       "      <td>72701565</td>\n",
       "    </tr>\n",
       "    <tr>\n",
       "      <th>2022-09-29</th>\n",
       "      <td>11.85</td>\n",
       "      <td>11.88</td>\n",
       "      <td>11.36</td>\n",
       "      <td>11.47</td>\n",
       "      <td>84534890</td>\n",
       "    </tr>\n",
       "  </tbody>\n",
       "</table>\n",
       "<p>692 rows × 5 columns</p>\n",
       "</div>"
      ],
      "text/plain": [
       "             open   high    low  close     volume\n",
       "date                                             \n",
       "2020-01-02   9.29   9.42   9.19   9.42   43432239\n",
       "2020-01-03   9.31   9.37   9.15   9.21   45059915\n",
       "2020-01-06   9.10   9.17   9.06   9.16   43380677\n",
       "2020-01-07   9.20   9.25   9.12   9.25   45334552\n",
       "2020-01-08   9.23   9.30   9.17   9.25   46003049\n",
       "...           ...    ...    ...    ...        ...\n",
       "2022-09-23  12.33  12.44  11.95  12.31  104043687\n",
       "2022-09-26  12.21  12.38  11.93  11.99   89300368\n",
       "2022-09-27  12.21  12.22  11.66  11.91   87044435\n",
       "2022-09-28  11.91  12.24  11.76  12.18   72701565\n",
       "2022-09-29  11.85  11.88  11.36  11.47   84534890\n",
       "\n",
       "[692 rows x 5 columns]"
      ]
     },
     "execution_count": 16,
     "metadata": {},
     "output_type": "execute_result"
    }
   ],
   "source": [
    "Ford"
   ]
  }
 ],
 "metadata": {
  "kernelspec": {
   "display_name": "Python 3.9.12 ('base')",
   "language": "python",
   "name": "python3"
  },
  "language_info": {
   "codemirror_mode": {
    "name": "ipython",
    "version": 3
   },
   "file_extension": ".py",
   "mimetype": "text/x-python",
   "name": "python",
   "nbconvert_exporter": "python",
   "pygments_lexer": "ipython3",
   "version": "3.9.12"
  },
  "vscode": {
   "interpreter": {
    "hash": "bac6e99dfa50d89021ff72eadcbd409b6b5af8c9c5f2eb8c37abc6199448ad83"
   }
  }
 },
 "nbformat": 4,
 "nbformat_minor": 2
}
