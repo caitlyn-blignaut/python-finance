{
 "cells": [
  {
   "cell_type": "markdown",
   "metadata": {},
   "source": [
    "## Importing and Organizing Your Data in Python - Part III"
   ]
  },
  {
   "cell_type": "markdown",
   "metadata": {},
   "source": [
    "Save the data obtained in the previous exercise as a csv file. Then, save it in an excel format. <br /> \n",
    "Do you remember which library can help you do that? Don’t forget to import it first!"
   ]
  },
  {
   "cell_type": "code",
   "execution_count": 2,
   "metadata": {
    "collapsed": true
   },
   "outputs": [],
   "source": [
    "import requests\n",
    "import pandas\n",
    "from pandas_datareader import data as wb\n",
    "\n",
    "sesh = requests.Session()\n",
    "sesh.verify = False"
   ]
  },
  {
   "cell_type": "code",
   "execution_count": 3,
   "metadata": {},
   "outputs": [
    {
     "name": "stderr",
     "output_type": "stream",
     "text": [
      "c:\\Users\\CBlignaut\\Anaconda3\\lib\\site-packages\\urllib3\\connectionpool.py:1043: InsecureRequestWarning: Unverified HTTPS request is being made to host 'cloud.iexapis.com'. Adding certificate verification is strongly advised. See: https://urllib3.readthedocs.io/en/1.26.x/advanced-usage.html#ssl-warnings\n",
      "  warnings.warn(\n",
      "c:\\Users\\CBlignaut\\Anaconda3\\lib\\site-packages\\urllib3\\connectionpool.py:1043: InsecureRequestWarning: Unverified HTTPS request is being made to host 'cloud.iexapis.com'. Adding certificate verification is strongly advised. See: https://urllib3.readthedocs.io/en/1.26.x/advanced-usage.html#ssl-warnings\n",
      "  warnings.warn(\n",
      "c:\\Users\\CBlignaut\\Anaconda3\\lib\\site-packages\\urllib3\\connectionpool.py:1043: InsecureRequestWarning: Unverified HTTPS request is being made to host 'cloud.iexapis.com'. Adding certificate verification is strongly advised. See: https://urllib3.readthedocs.io/en/1.26.x/advanced-usage.html#ssl-warnings\n",
      "  warnings.warn(\n",
      "c:\\Users\\CBlignaut\\Anaconda3\\lib\\site-packages\\urllib3\\connectionpool.py:1043: InsecureRequestWarning: Unverified HTTPS request is being made to host 'cloud.iexapis.com'. Adding certificate verification is strongly advised. See: https://urllib3.readthedocs.io/en/1.26.x/advanced-usage.html#ssl-warnings\n",
      "  warnings.warn(\n"
     ]
    }
   ],
   "source": [
    "tickers = ['AAPL', 'MSFT', 'XOM', 'BP']\n",
    "new_data = pandas.DataFrame()\n",
    "for t in tickers:\n",
    "    new_data[t] = wb.DataReader(t, \"iex\", start=\"2020-1-1\",api_key=\"pk_9ee76f7e01664c58a751710e0041b3fa\", session=sesh)[\"close\"]"
   ]
  },
  {
   "cell_type": "code",
   "execution_count": 8,
   "metadata": {
    "collapsed": true
   },
   "outputs": [],
   "source": [
    "new_data.to_csv(\"C:\\GitHub\\python-finance\\python-finance\\PART I - Python\\\\10 - Advanced Python Tools\\8 Importing Data - Part III\\CSV\\Exercise_CSV.csv\")"
   ]
  },
  {
   "cell_type": "code",
   "execution_count": 10,
   "metadata": {
    "collapsed": true
   },
   "outputs": [],
   "source": [
    "new_data.to_excel(\"C:\\GitHub\\python-finance\\python-finance\\PART I - Python\\\\10 - Advanced Python Tools\\8 Importing Data - Part III\\CSV\\Exercise_Excel.xlsx\")"
   ]
  }
 ],
 "metadata": {
  "kernelspec": {
   "display_name": "Python 3.9.12 ('base')",
   "language": "python",
   "name": "python3"
  },
  "language_info": {
   "codemirror_mode": {
    "name": "ipython",
    "version": 3
   },
   "file_extension": ".py",
   "mimetype": "text/x-python",
   "name": "python",
   "nbconvert_exporter": "python",
   "pygments_lexer": "ipython3",
   "version": "3.9.12"
  },
  "vscode": {
   "interpreter": {
    "hash": "bac6e99dfa50d89021ff72eadcbd409b6b5af8c9c5f2eb8c37abc6199448ad83"
   }
  }
 },
 "nbformat": 4,
 "nbformat_minor": 2
}
